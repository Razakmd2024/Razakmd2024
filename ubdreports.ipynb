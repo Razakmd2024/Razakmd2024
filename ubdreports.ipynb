{
  "cells": [
    {
      "cell_type": "markdown",
      "metadata": {
        "id": "view-in-github",
        "colab_type": "text"
      },
      "source": [
        "<a href=\"https://colab.research.google.com/github/Razakmd2024/Razakmd2024/blob/main/ubdreports.ipynb\" target=\"_parent\"><img src=\"https://colab.research.google.com/assets/colab-badge.svg\" alt=\"Open In Colab\"/></a>"
      ]
    },
    {
      "cell_type": "markdown",
      "metadata": {
        "id": "CgPuybCE7pWT"
      },
      "source": [
        "# Project:  EDA of Unified Births & Deaths Registrations \n",
        "# Under EODB (Easy of Doing Business), telangana Govt. encouraging all Gram Panchayats to issue birth and death certificates through online mode only. No Manual certificates are entertained. \n",
        "# To Monitor the issue of Birth and Death certificates through ubd.telangana.gov.in portal"
      ]
    },
    {
      "cell_type": "markdown",
      "metadata": {
        "id": "sPART7Vm9qL6"
      },
      "source": [
        "# Download the required Libraries "
      ]
    },
    {
      "cell_type": "code",
      "execution_count": 1,
      "metadata": {
        "id": "tyuQdon86uyJ"
      },
      "outputs": [],
      "source": [
        "import pandas as pd\n",
        "import numpy as np\n",
        "from pandas import read_html\n",
        "import matplotlib.pyplot as plt\n",
        "import seaborn as sns"
      ]
    },
    {
      "cell_type": "markdown",
      "metadata": {
        "id": "kruFGkFz7n1G"
      },
      "source": [
        "# Read the url of Urban local bodies from UBDMIS report page"
      ]
    },
    {
      "cell_type": "code",
      "execution_count": 2,
      "metadata": {
        "id": "es3xSp6l-K8G"
      },
      "outputs": [],
      "source": [
        "url=\"http://ubdmis.telangana.gov.in/ubdmisTGTotalStatus.do?rlb_type=3&pstcode=35&style=bluetheme\""
      ]
    },
    {
      "cell_type": "markdown",
      "metadata": {
        "id": "nP2MsCFh-UIt"
      },
      "source": [
        "# Loading the data into URL Object"
      ]
    },
    {
      "cell_type": "code",
      "execution_count": 3,
      "metadata": {
        "colab": {
          "base_uri": "https://localhost:8080/"
        },
        "id": "zLreC0IV-O-o",
        "outputId": "73eeac66-2a30-481e-ff73-46432ec2a19e"
      },
      "outputs": [
        {
          "output_type": "stream",
          "name": "stdout",
          "text": [
            "[                                                   0\n",
            "0  UNIFIED BIRTH & DEATH REGISTRATION-MANAGEMENT ...\n",
            "1  Birth & Death Signed Records for the Local Bod...,            0            1                    2              3             4  \\\n",
            "0      Sl.No  Reg.Unit Id        District Name    Mandal Name  Office Title   \n",
            "1          1        20001             ADILABAD       Adilabad      Allikori   \n",
            "2          2        20002             ADILABAD       Adilabad       Ankapur   \n",
            "3          3        20003             ADILABAD       Adilabad        Ankoli   \n",
            "4          4        20005             ADILABAD       Adilabad       Arli(B)   \n",
            "...      ...          ...                  ...            ...           ...   \n",
            "12766  12766       208244  YADADRI BHUVANAGIRI  Yadagirigutta     Saduvally   \n",
            "12767  12767       208245  YADADRI BHUVANAGIRI  Yadagirigutta      Saidapur   \n",
            "12768  12768       208246  YADADRI BHUVANAGIRI  Yadagirigutta    Tallagudem   \n",
            "12769  12769       208248  YADADRI BHUVANAGIRI  Yadagirigutta    Wangapally   \n",
            "12770  Total        Total                Total          Total         Total   \n",
            "\n",
            "                               5                                           6  \\\n",
            "0       Token Registered(Yes/No)  Birth Records Signed / Total Birth Records   \n",
            "1                            Yes                                      0 /  0   \n",
            "2                            Yes                                      0 /  0   \n",
            "3                            Yes                                     0 /  11   \n",
            "4                            Yes                                      0 /  3   \n",
            "...                          ...                                         ...   \n",
            "12766                         No                                      0 /  3   \n",
            "12767                        Yes                                      0 /  4   \n",
            "12768                        Yes                                      0 /  0   \n",
            "12769                        Yes                                      0 /  6   \n",
            "12770  [11278/ 12769,1491/12769]                             130622 / 279255   \n",
            "\n",
            "                                                7  \n",
            "0      Death Records Signed / Total Death Records  \n",
            "1                                         0 /  10  \n",
            "2                                         0 /  15  \n",
            "3                                         0 /  56  \n",
            "4                                         0 /  16  \n",
            "...                                           ...  \n",
            "12766                                      0 /  9  \n",
            "12767                                     0 /  12  \n",
            "12768                                      0 /  5  \n",
            "12769                                     0 /  40  \n",
            "12770                              46121 / 358134  \n",
            "\n",
            "[12771 rows x 8 columns],                                                    0\n",
            "0  Note: (a) Report Statistics have been collecte...\n",
            "1                 (b) NA = NOT ASSIGNED / APPLICABLE]\n"
          ]
        }
      ],
      "source": [
        "ubd=pd.io.html.read_html(url)\n",
        "print(ubd)"
      ]
    },
    {
      "cell_type": "markdown",
      "metadata": {
        "id": "g6ulMk6E-SfA"
      },
      "source": [
        "# Above UBD object contains two tables.. consider only required table for data analysis"
      ]
    },
    {
      "cell_type": "code",
      "execution_count": 4,
      "metadata": {
        "colab": {
          "base_uri": "https://localhost:8080/"
        },
        "id": "bmcMRJx1BYQI",
        "outputId": "0e549c37-81b4-4578-f61e-9c75b1f856f6"
      },
      "outputs": [
        {
          "output_type": "stream",
          "name": "stdout",
          "text": [
            "           0            1                    2              3             4  \\\n",
            "0      Sl.No  Reg.Unit Id        District Name    Mandal Name  Office Title   \n",
            "1          1        20001             ADILABAD       Adilabad      Allikori   \n",
            "2          2        20002             ADILABAD       Adilabad       Ankapur   \n",
            "3          3        20003             ADILABAD       Adilabad        Ankoli   \n",
            "4          4        20005             ADILABAD       Adilabad       Arli(B)   \n",
            "...      ...          ...                  ...            ...           ...   \n",
            "12766  12766       208244  YADADRI BHUVANAGIRI  Yadagirigutta     Saduvally   \n",
            "12767  12767       208245  YADADRI BHUVANAGIRI  Yadagirigutta      Saidapur   \n",
            "12768  12768       208246  YADADRI BHUVANAGIRI  Yadagirigutta    Tallagudem   \n",
            "12769  12769       208248  YADADRI BHUVANAGIRI  Yadagirigutta    Wangapally   \n",
            "12770  Total        Total                Total          Total         Total   \n",
            "\n",
            "                               5                                           6  \\\n",
            "0       Token Registered(Yes/No)  Birth Records Signed / Total Birth Records   \n",
            "1                            Yes                                      0 /  0   \n",
            "2                            Yes                                      0 /  0   \n",
            "3                            Yes                                     0 /  11   \n",
            "4                            Yes                                      0 /  3   \n",
            "...                          ...                                         ...   \n",
            "12766                         No                                      0 /  3   \n",
            "12767                        Yes                                      0 /  4   \n",
            "12768                        Yes                                      0 /  0   \n",
            "12769                        Yes                                      0 /  6   \n",
            "12770  [11278/ 12769,1491/12769]                             130622 / 279255   \n",
            "\n",
            "                                                7  \n",
            "0      Death Records Signed / Total Death Records  \n",
            "1                                         0 /  10  \n",
            "2                                         0 /  15  \n",
            "3                                         0 /  56  \n",
            "4                                         0 /  16  \n",
            "...                                           ...  \n",
            "12766                                      0 /  9  \n",
            "12767                                     0 /  12  \n",
            "12768                                      0 /  5  \n",
            "12769                                     0 /  40  \n",
            "12770                              46121 / 358134  \n",
            "\n",
            "[12771 rows x 8 columns]\n"
          ]
        }
      ],
      "source": [
        "table=ubd[1]\n",
        "print(table)\n",
        "data=table.copy()"
      ]
    },
    {
      "cell_type": "markdown",
      "metadata": {
        "id": "cLDzITs5iFN5"
      },
      "source": [
        "# Assign the first row data to the dataframe columns Attribute "
      ]
    },
    {
      "cell_type": "code",
      "execution_count": 5,
      "metadata": {
        "colab": {
          "base_uri": "https://localhost:8080/"
        },
        "id": "bLl1p07XClYC",
        "outputId": "9b85f1b4-c7c4-4871-9126-f41ad9508f19"
      },
      "outputs": [
        {
          "output_type": "stream",
          "name": "stdout",
          "text": [
            "0 Sl.No Reg.Unit Id District Name Mandal Name Office Title  \\\n",
            "1     1       20001      ADILABAD    Adilabad     Allikori   \n",
            "2     2       20002      ADILABAD    Adilabad      Ankapur   \n",
            "3     3       20003      ADILABAD    Adilabad       Ankoli   \n",
            "4     4       20005      ADILABAD    Adilabad      Arli(B)   \n",
            "5     5       20006      ADILABAD    Adilabad       Asodha   \n",
            "\n",
            "0 Token Registered(Yes/No) Birth Records Signed / Total Birth Records  \\\n",
            "1                      Yes                                     0 /  0   \n",
            "2                      Yes                                     0 /  0   \n",
            "3                      Yes                                    0 /  11   \n",
            "4                      Yes                                     0 /  3   \n",
            "5                      Yes                                     0 /  0   \n",
            "\n",
            "0 Death Records Signed / Total Death Records  \n",
            "1                                    0 /  10  \n",
            "2                                    0 /  15  \n",
            "3                                    0 /  56  \n",
            "4                                    0 /  16  \n",
            "5                                     0 /  4  \n"
          ]
        }
      ],
      "source": [
        "data.columns = data.iloc[0]\n",
        "\n",
        "data.drop(0, axis=0,inplace=True)\n",
        "print(data.head())\n"
      ]
    },
    {
      "cell_type": "code",
      "execution_count": 6,
      "metadata": {
        "colab": {
          "base_uri": "https://localhost:8080/"
        },
        "id": "jA9ubDWRhsbe",
        "outputId": "78045968-3bf3-446a-b6d4-787fd0ea6ba0"
      },
      "outputs": [
        {
          "output_type": "stream",
          "name": "stdout",
          "text": [
            "0 Reg.Unit Id District Name Mandal Name Office Title Token Registered(Yes/No)  \\\n",
            "0       20001      ADILABAD    Adilabad     Allikori                      Yes   \n",
            "1       20002      ADILABAD    Adilabad      Ankapur                      Yes   \n",
            "2       20003      ADILABAD    Adilabad       Ankoli                      Yes   \n",
            "3       20005      ADILABAD    Adilabad      Arli(B)                      Yes   \n",
            "4       20006      ADILABAD    Adilabad       Asodha                      Yes   \n",
            "\n",
            "0 Birth Records Signed / Total Birth Records  \\\n",
            "0                                     0 /  0   \n",
            "1                                     0 /  0   \n",
            "2                                    0 /  11   \n",
            "3                                     0 /  3   \n",
            "4                                     0 /  0   \n",
            "\n",
            "0 Death Records Signed / Total Death Records  \n",
            "0                                    0 /  10  \n",
            "1                                    0 /  15  \n",
            "2                                    0 /  56  \n",
            "3                                    0 /  16  \n",
            "4                                     0 /  4  \n"
          ]
        }
      ],
      "source": [
        "data=data.reset_index()\n",
        "data.drop(['index','Sl.No'], axis=1, inplace=True)\n",
        "print(data.head())"
      ]
    },
    {
      "cell_type": "markdown",
      "metadata": {
        "id": "7nnxW4Fki4R6"
      },
      "source": [
        "# spliting the birth and death records"
      ]
    },
    {
      "cell_type": "code",
      "execution_count": 7,
      "metadata": {
        "colab": {
          "base_uri": "https://localhost:8080/"
        },
        "id": "e_VC605NT_VU",
        "outputId": "6d7d93e4-14fa-4e3c-8a64-bbd694d1ec22"
      },
      "outputs": [
        {
          "output_type": "stream",
          "name": "stdout",
          "text": [
            "0 Reg.Unit Id District Name Mandal Name Office Title Token Registered(Yes/No)  \\\n",
            "0       20001      ADILABAD    Adilabad     Allikori                      Yes   \n",
            "1       20002      ADILABAD    Adilabad      Ankapur                      Yes   \n",
            "2       20003      ADILABAD    Adilabad       Ankoli                      Yes   \n",
            "3       20005      ADILABAD    Adilabad      Arli(B)                      Yes   \n",
            "4       20006      ADILABAD    Adilabad       Asodha                      Yes   \n",
            "\n",
            "0 Death Records Signed / Total Death Records Birth Records Signed  \\\n",
            "0                                    0 /  10                    0   \n",
            "1                                    0 /  15                    0   \n",
            "2                                    0 /  56                    0   \n",
            "3                                    0 /  16                    0   \n",
            "4                                     0 /  4                    0   \n",
            "\n",
            "0 Total Birth Records  \n",
            "0                   0  \n",
            "1                   0  \n",
            "2                  11  \n",
            "3                   3  \n",
            "4                   0  \n"
          ]
        }
      ],
      "source": [
        "birth=data['Birth Records Signed / Total Birth Records'].str.split(\" /  \",n=1, expand=True)\n",
        "data['Birth Records Signed']=birth[0]\n",
        "data['Total Birth Records']=birth[1]\n",
        "data.drop(['Birth Records Signed / Total Birth Records'], axis=1,inplace =True)\n",
        "print(data.head())"
      ]
    },
    {
      "cell_type": "code",
      "execution_count": 8,
      "metadata": {
        "colab": {
          "base_uri": "https://localhost:8080/"
        },
        "id": "DDlLzkUKk-Nn",
        "outputId": "c1521d31-b116-4969-9ce0-94296b468e37"
      },
      "outputs": [
        {
          "output_type": "stream",
          "name": "stdout",
          "text": [
            "0 Reg.Unit Id District Name Mandal Name Office Title Token Registered(Yes/No)  \\\n",
            "0       20001      ADILABAD    Adilabad     Allikori                      Yes   \n",
            "1       20002      ADILABAD    Adilabad      Ankapur                      Yes   \n",
            "2       20003      ADILABAD    Adilabad       Ankoli                      Yes   \n",
            "3       20005      ADILABAD    Adilabad      Arli(B)                      Yes   \n",
            "4       20006      ADILABAD    Adilabad       Asodha                      Yes   \n",
            "\n",
            "0 Birth Records Signed Total Birth Records Death Records Signed  \\\n",
            "0                    0                   0                    0   \n",
            "1                    0                   0                    0   \n",
            "2                    0                  11                    0   \n",
            "3                    0                   3                    0   \n",
            "4                    0                   0                    0   \n",
            "\n",
            "0 Total Death Records  \n",
            "0                  10  \n",
            "1                  15  \n",
            "2                  56  \n",
            "3                  16  \n",
            "4                   4  \n"
          ]
        }
      ],
      "source": [
        "death = data['Death Records Signed / Total Death Records'].str.split(\" /  \",n=1, expand =True )\n",
        "data['Death Records Signed']=death[0]\n",
        "data['Total Death Records']=death[1]\n",
        "data.drop(['Death Records Signed / Total Death Records'], axis=1, inplace= True)\n",
        "print(data.head())"
      ]
    },
    {
      "cell_type": "code",
      "execution_count": 9,
      "metadata": {
        "colab": {
          "base_uri": "https://localhost:8080/"
        },
        "id": "6QVD9Iaxyik_",
        "outputId": "a0edd9d0-6b3a-4eae-f363-198f06ded485"
      },
      "outputs": [
        {
          "output_type": "stream",
          "name": "stdout",
          "text": [
            "<class 'pandas.core.frame.DataFrame'>\n",
            "RangeIndex: 12770 entries, 0 to 12769\n",
            "Data columns (total 9 columns):\n",
            " #   Column                    Non-Null Count  Dtype \n",
            "---  ------                    --------------  ----- \n",
            " 0   Reg.Unit Id               12770 non-null  object\n",
            " 1   District Name             12770 non-null  object\n",
            " 2   Mandal Name               12770 non-null  object\n",
            " 3   Office Title              12770 non-null  object\n",
            " 4   Token Registered(Yes/No)  12770 non-null  object\n",
            " 5   Birth Records Signed      12770 non-null  object\n",
            " 6   Total Birth Records       12769 non-null  object\n",
            " 7   Death Records Signed      12770 non-null  object\n",
            " 8   Total Death Records       12769 non-null  object\n",
            "dtypes: object(9)\n",
            "memory usage: 898.0+ KB\n"
          ]
        }
      ],
      "source": [
        "data.info()"
      ]
    },
    {
      "cell_type": "code",
      "execution_count": 10,
      "metadata": {
        "id": "Cbdblf0NOZ7e"
      },
      "outputs": [],
      "source": [
        "data.drop(12769, axis=0, inplace =True)"
      ]
    },
    {
      "cell_type": "code",
      "execution_count": 11,
      "metadata": {
        "id": "sRRptSKKxmmT"
      },
      "outputs": [],
      "source": [
        "data=data.astype({'Birth Records Signed':'int64', 'Total Birth Records':'int64', 'Death Records Signed':'int64', 'Total Death Records':'int64'})"
      ]
    },
    {
      "cell_type": "code",
      "execution_count": 12,
      "metadata": {
        "colab": {
          "base_uri": "https://localhost:8080/"
        },
        "id": "4-kmHvMK39of",
        "outputId": "863aa2d0-96dd-4147-8f45-fab7adb1ffa7"
      },
      "outputs": [
        {
          "output_type": "stream",
          "name": "stdout",
          "text": [
            "<class 'pandas.core.frame.DataFrame'>\n",
            "Int64Index: 12769 entries, 0 to 12768\n",
            "Data columns (total 9 columns):\n",
            " #   Column                    Non-Null Count  Dtype \n",
            "---  ------                    --------------  ----- \n",
            " 0   Reg.Unit Id               12769 non-null  object\n",
            " 1   District Name             12769 non-null  object\n",
            " 2   Mandal Name               12769 non-null  object\n",
            " 3   Office Title              12769 non-null  object\n",
            " 4   Token Registered(Yes/No)  12769 non-null  object\n",
            " 5   Birth Records Signed      12769 non-null  int64 \n",
            " 6   Total Birth Records       12769 non-null  int64 \n",
            " 7   Death Records Signed      12769 non-null  int64 \n",
            " 8   Total Death Records       12769 non-null  int64 \n",
            "dtypes: int64(4), object(5)\n",
            "memory usage: 997.6+ KB\n"
          ]
        }
      ],
      "source": [
        "data.info()"
      ]
    },
    {
      "cell_type": "code",
      "execution_count": 13,
      "metadata": {
        "colab": {
          "base_uri": "https://localhost:8080/"
        },
        "id": "D44v_UjROmig",
        "outputId": "3513c24b-03d3-41e4-b15d-24858367ca58"
      },
      "outputs": [
        {
          "output_type": "execute_result",
          "data": {
            "text/plain": [
              "array(['Yes', 'No'], dtype=object)"
            ]
          },
          "metadata": {},
          "execution_count": 13
        }
      ],
      "source": [
        "data['Token Registered(Yes/No)'].unique()"
      ]
    },
    {
      "cell_type": "code",
      "execution_count": 14,
      "metadata": {
        "id": "pqrETgN1PIEM"
      },
      "outputs": [],
      "source": [
        "data.replace('Yes',1, inplace=True)\n",
        "data.replace('No',0, inplace=True)"
      ]
    },
    {
      "cell_type": "code",
      "execution_count": 15,
      "metadata": {
        "colab": {
          "base_uri": "https://localhost:8080/"
        },
        "id": "GXBpk_vIPnWE",
        "outputId": "0297f300-a024-4f12-e007-9dd0b12810c9"
      },
      "outputs": [
        {
          "output_type": "stream",
          "name": "stdout",
          "text": [
            "<class 'pandas.core.frame.DataFrame'>\n",
            "Int64Index: 12769 entries, 0 to 12768\n",
            "Data columns (total 9 columns):\n",
            " #   Column                    Non-Null Count  Dtype \n",
            "---  ------                    --------------  ----- \n",
            " 0   Reg.Unit Id               12769 non-null  object\n",
            " 1   District Name             12769 non-null  object\n",
            " 2   Mandal Name               12769 non-null  object\n",
            " 3   Office Title              12769 non-null  object\n",
            " 4   Token Registered(Yes/No)  12769 non-null  int64 \n",
            " 5   Birth Records Signed      12769 non-null  int64 \n",
            " 6   Total Birth Records       12769 non-null  int64 \n",
            " 7   Death Records Signed      12769 non-null  int64 \n",
            " 8   Total Death Records       12769 non-null  int64 \n",
            "dtypes: int64(5), object(4)\n",
            "memory usage: 997.6+ KB\n"
          ]
        }
      ],
      "source": [
        "data.info()"
      ]
    },
    {
      "cell_type": "code",
      "execution_count": 16,
      "metadata": {
        "colab": {
          "base_uri": "https://localhost:8080/",
          "height": 285
        },
        "id": "9hfgIaA04Zib",
        "outputId": "274ea6e3-f43d-4f93-a765-31cf765135fb"
      },
      "outputs": [
        {
          "output_type": "execute_result",
          "data": {
            "text/plain": [
              "0 Reg.Unit Id District Name Mandal Name Office Title  \\\n",
              "0       20001      ADILABAD    Adilabad     Allikori   \n",
              "1       20002      ADILABAD    Adilabad      Ankapur   \n",
              "2       20003      ADILABAD    Adilabad       Ankoli   \n",
              "3       20005      ADILABAD    Adilabad      Arli(B)   \n",
              "4       20006      ADILABAD    Adilabad       Asodha   \n",
              "\n",
              "0  Token Registered(Yes/No)  Birth Records Signed  Total Birth Records  \\\n",
              "0                         1                     0                    0   \n",
              "1                         1                     0                    0   \n",
              "2                         1                     0                   11   \n",
              "3                         1                     0                    3   \n",
              "4                         1                     0                    0   \n",
              "\n",
              "0  Death Records Signed  Total Death Records  \n",
              "0                     0                   10  \n",
              "1                     0                   15  \n",
              "2                     0                   56  \n",
              "3                     0                   16  \n",
              "4                     0                    4  "
            ],
            "text/html": [
              "\n",
              "  <div id=\"df-b5693d4e-f91d-4f92-99bc-5d93ac4cdf56\">\n",
              "    <div class=\"colab-df-container\">\n",
              "      <div>\n",
              "<style scoped>\n",
              "    .dataframe tbody tr th:only-of-type {\n",
              "        vertical-align: middle;\n",
              "    }\n",
              "\n",
              "    .dataframe tbody tr th {\n",
              "        vertical-align: top;\n",
              "    }\n",
              "\n",
              "    .dataframe thead th {\n",
              "        text-align: right;\n",
              "    }\n",
              "</style>\n",
              "<table border=\"1\" class=\"dataframe\">\n",
              "  <thead>\n",
              "    <tr style=\"text-align: right;\">\n",
              "      <th></th>\n",
              "      <th>Reg.Unit Id</th>\n",
              "      <th>District Name</th>\n",
              "      <th>Mandal Name</th>\n",
              "      <th>Office Title</th>\n",
              "      <th>Token Registered(Yes/No)</th>\n",
              "      <th>Birth Records Signed</th>\n",
              "      <th>Total Birth Records</th>\n",
              "      <th>Death Records Signed</th>\n",
              "      <th>Total Death Records</th>\n",
              "    </tr>\n",
              "  </thead>\n",
              "  <tbody>\n",
              "    <tr>\n",
              "      <th>0</th>\n",
              "      <td>20001</td>\n",
              "      <td>ADILABAD</td>\n",
              "      <td>Adilabad</td>\n",
              "      <td>Allikori</td>\n",
              "      <td>1</td>\n",
              "      <td>0</td>\n",
              "      <td>0</td>\n",
              "      <td>0</td>\n",
              "      <td>10</td>\n",
              "    </tr>\n",
              "    <tr>\n",
              "      <th>1</th>\n",
              "      <td>20002</td>\n",
              "      <td>ADILABAD</td>\n",
              "      <td>Adilabad</td>\n",
              "      <td>Ankapur</td>\n",
              "      <td>1</td>\n",
              "      <td>0</td>\n",
              "      <td>0</td>\n",
              "      <td>0</td>\n",
              "      <td>15</td>\n",
              "    </tr>\n",
              "    <tr>\n",
              "      <th>2</th>\n",
              "      <td>20003</td>\n",
              "      <td>ADILABAD</td>\n",
              "      <td>Adilabad</td>\n",
              "      <td>Ankoli</td>\n",
              "      <td>1</td>\n",
              "      <td>0</td>\n",
              "      <td>11</td>\n",
              "      <td>0</td>\n",
              "      <td>56</td>\n",
              "    </tr>\n",
              "    <tr>\n",
              "      <th>3</th>\n",
              "      <td>20005</td>\n",
              "      <td>ADILABAD</td>\n",
              "      <td>Adilabad</td>\n",
              "      <td>Arli(B)</td>\n",
              "      <td>1</td>\n",
              "      <td>0</td>\n",
              "      <td>3</td>\n",
              "      <td>0</td>\n",
              "      <td>16</td>\n",
              "    </tr>\n",
              "    <tr>\n",
              "      <th>4</th>\n",
              "      <td>20006</td>\n",
              "      <td>ADILABAD</td>\n",
              "      <td>Adilabad</td>\n",
              "      <td>Asodha</td>\n",
              "      <td>1</td>\n",
              "      <td>0</td>\n",
              "      <td>0</td>\n",
              "      <td>0</td>\n",
              "      <td>4</td>\n",
              "    </tr>\n",
              "  </tbody>\n",
              "</table>\n",
              "</div>\n",
              "      <button class=\"colab-df-convert\" onclick=\"convertToInteractive('df-b5693d4e-f91d-4f92-99bc-5d93ac4cdf56')\"\n",
              "              title=\"Convert this dataframe to an interactive table.\"\n",
              "              style=\"display:none;\">\n",
              "        \n",
              "  <svg xmlns=\"http://www.w3.org/2000/svg\" height=\"24px\"viewBox=\"0 0 24 24\"\n",
              "       width=\"24px\">\n",
              "    <path d=\"M0 0h24v24H0V0z\" fill=\"none\"/>\n",
              "    <path d=\"M18.56 5.44l.94 2.06.94-2.06 2.06-.94-2.06-.94-.94-2.06-.94 2.06-2.06.94zm-11 1L8.5 8.5l.94-2.06 2.06-.94-2.06-.94L8.5 2.5l-.94 2.06-2.06.94zm10 10l.94 2.06.94-2.06 2.06-.94-2.06-.94-.94-2.06-.94 2.06-2.06.94z\"/><path d=\"M17.41 7.96l-1.37-1.37c-.4-.4-.92-.59-1.43-.59-.52 0-1.04.2-1.43.59L10.3 9.45l-7.72 7.72c-.78.78-.78 2.05 0 2.83L4 21.41c.39.39.9.59 1.41.59.51 0 1.02-.2 1.41-.59l7.78-7.78 2.81-2.81c.8-.78.8-2.07 0-2.86zM5.41 20L4 18.59l7.72-7.72 1.47 1.35L5.41 20z\"/>\n",
              "  </svg>\n",
              "      </button>\n",
              "      \n",
              "  <style>\n",
              "    .colab-df-container {\n",
              "      display:flex;\n",
              "      flex-wrap:wrap;\n",
              "      gap: 12px;\n",
              "    }\n",
              "\n",
              "    .colab-df-convert {\n",
              "      background-color: #E8F0FE;\n",
              "      border: none;\n",
              "      border-radius: 50%;\n",
              "      cursor: pointer;\n",
              "      display: none;\n",
              "      fill: #1967D2;\n",
              "      height: 32px;\n",
              "      padding: 0 0 0 0;\n",
              "      width: 32px;\n",
              "    }\n",
              "\n",
              "    .colab-df-convert:hover {\n",
              "      background-color: #E2EBFA;\n",
              "      box-shadow: 0px 1px 2px rgba(60, 64, 67, 0.3), 0px 1px 3px 1px rgba(60, 64, 67, 0.15);\n",
              "      fill: #174EA6;\n",
              "    }\n",
              "\n",
              "    [theme=dark] .colab-df-convert {\n",
              "      background-color: #3B4455;\n",
              "      fill: #D2E3FC;\n",
              "    }\n",
              "\n",
              "    [theme=dark] .colab-df-convert:hover {\n",
              "      background-color: #434B5C;\n",
              "      box-shadow: 0px 1px 3px 1px rgba(0, 0, 0, 0.15);\n",
              "      filter: drop-shadow(0px 1px 2px rgba(0, 0, 0, 0.3));\n",
              "      fill: #FFFFFF;\n",
              "    }\n",
              "  </style>\n",
              "\n",
              "      <script>\n",
              "        const buttonEl =\n",
              "          document.querySelector('#df-b5693d4e-f91d-4f92-99bc-5d93ac4cdf56 button.colab-df-convert');\n",
              "        buttonEl.style.display =\n",
              "          google.colab.kernel.accessAllowed ? 'block' : 'none';\n",
              "\n",
              "        async function convertToInteractive(key) {\n",
              "          const element = document.querySelector('#df-b5693d4e-f91d-4f92-99bc-5d93ac4cdf56');\n",
              "          const dataTable =\n",
              "            await google.colab.kernel.invokeFunction('convertToInteractive',\n",
              "                                                     [key], {});\n",
              "          if (!dataTable) return;\n",
              "\n",
              "          const docLinkHtml = 'Like what you see? Visit the ' +\n",
              "            '<a target=\"_blank\" href=https://colab.research.google.com/notebooks/data_table.ipynb>data table notebook</a>'\n",
              "            + ' to learn more about interactive tables.';\n",
              "          element.innerHTML = '';\n",
              "          dataTable['output_type'] = 'display_data';\n",
              "          await google.colab.output.renderOutput(dataTable, element);\n",
              "          const docLink = document.createElement('div');\n",
              "          docLink.innerHTML = docLinkHtml;\n",
              "          element.appendChild(docLink);\n",
              "        }\n",
              "      </script>\n",
              "    </div>\n",
              "  </div>\n",
              "  "
            ]
          },
          "metadata": {},
          "execution_count": 16
        }
      ],
      "source": [
        "data.head()"
      ]
    },
    {
      "cell_type": "code",
      "execution_count": 17,
      "metadata": {
        "id": "C4EjimSj4kzB"
      },
      "outputs": [],
      "source": [
        "data.rename(columns={'Office Title':'Gram Panchayat Name', 'Token Registered(Yes/No)':'Token Registered GPs'},inplace=True)"
      ]
    },
    {
      "cell_type": "code",
      "execution_count": 18,
      "metadata": {
        "colab": {
          "base_uri": "https://localhost:8080/"
        },
        "id": "IKPCqS9oxy_K",
        "outputId": "c48f3ec7-43fd-49ce-ba85-7d969265cabe"
      },
      "outputs": [
        {
          "output_type": "stream",
          "name": "stdout",
          "text": [
            "<class 'pandas.core.frame.DataFrame'>\n",
            "Int64Index: 12769 entries, 0 to 12768\n",
            "Data columns (total 9 columns):\n",
            " #   Column                Non-Null Count  Dtype \n",
            "---  ------                --------------  ----- \n",
            " 0   Reg.Unit Id           12769 non-null  object\n",
            " 1   District Name         12769 non-null  object\n",
            " 2   Mandal Name           12769 non-null  object\n",
            " 3   Gram Panchayat Name   12769 non-null  object\n",
            " 4   Token Registered GPs  12769 non-null  int64 \n",
            " 5   Birth Records Signed  12769 non-null  int64 \n",
            " 6   Total Birth Records   12769 non-null  int64 \n",
            " 7   Death Records Signed  12769 non-null  int64 \n",
            " 8   Total Death Records   12769 non-null  int64 \n",
            "dtypes: int64(5), object(4)\n",
            "memory usage: 997.6+ KB\n"
          ]
        }
      ],
      "source": [
        "data.info()"
      ]
    },
    {
      "cell_type": "code",
      "execution_count": 20,
      "metadata": {
        "id": "ixHg7utoP8kb"
      },
      "outputs": [],
      "source": [
        "col=['Token Registered GPs','Birth Records Signed','Total Birth Records', 'Death Records Signed', 'Total Death Records']"
      ]
    },
    {
      "cell_type": "code",
      "execution_count": 28,
      "metadata": {
        "colab": {
          "base_uri": "https://localhost:8080/",
          "height": 890
        },
        "id": "HKbu7Rt3k9_O",
        "outputId": "b279f21a-1a57-480f-8e51-a9abccb1a9ed"
      },
      "outputs": [
        {
          "output_type": "stream",
          "name": "stdout",
          "text": [
            "0                     Token Registered GPs  Birth Records Signed  \\\n",
            "District Name                                                      \n",
            "ADILABAD                               456                   102   \n",
            "BHADRADRI KOTHAGUDEM                   414                 35923   \n",
            "HANUMAKONDA                            208                  1539   \n",
            "JAGTIAL                                380                  1524   \n",
            "JANGOAN                                269                  5473   \n",
            "\n",
            "0                     Total Birth Records  Death Records Signed  \\\n",
            "District Name                                                     \n",
            "ADILABAD                             3505                   161   \n",
            "BHADRADRI KOTHAGUDEM                43007                  8683   \n",
            "HANUMAKONDA                         11833                   556   \n",
            "JAGTIAL                              5362                  1441   \n",
            "JANGOAN                             10119                  2695   \n",
            "\n",
            "0                     Total Death Records  \n",
            "District Name                              \n",
            "ADILABAD                            10725  \n",
            "BHADRADRI KOTHAGUDEM                15310  \n",
            "HANUMAKONDA                         12198  \n",
            "JAGTIAL                             16354  \n",
            "JANGOAN                              6723  \n"
          ]
        },
        {
          "output_type": "execute_result",
          "data": {
            "text/plain": [
              "<matplotlib.axes._subplots.AxesSubplot at 0x7fd78446f460>"
            ]
          },
          "metadata": {},
          "execution_count": 28
        },
        {
          "output_type": "display_data",
          "data": {
            "text/plain": [
              "<Figure size 1296x432 with 1 Axes>"
            ],
            "image/png": "[encoded data removed]"
          },
          "metadata": {
            "needs_background": "light"
          }
        }
      ],
      "source": [
        "print(data.groupby('District Name')[col].sum().head())\n",
        "data.groupby('District Name')[col].sum().plot(kind='bar',figsize=(18,6))\n"
      ]
    },
    {
      "cell_type": "code",
      "execution_count": 29,
      "metadata": {
        "colab": {
          "base_uri": "https://localhost:8080/"
        },
        "id": "5rgSMuDFT9G2",
        "outputId": "447d2267-5dcc-4250-9b24-f2830fcf0943"
      },
      "outputs": [
        {
          "output_type": "execute_result",
          "data": {
            "text/plain": [
              "Index(['Reg.Unit Id', 'District Name', 'Mandal Name', 'Gram Panchayat Name',\n",
              "       'Token Registered GPs', 'Birth Records Signed', 'Total Birth Records',\n",
              "       'Death Records Signed', 'Total Death Records'],\n",
              "      dtype='object', name=0)"
            ]
          },
          "metadata": {},
          "execution_count": 29
        }
      ],
      "source": [
        "data.columns"
      ]
    },
    {
      "cell_type": "code",
      "execution_count": 30,
      "metadata": {
        "colab": {
          "base_uri": "https://localhost:8080/"
        },
        "id": "upuYm_MlUJ3t",
        "outputId": "f5fa5b15-5df8-4f8e-d112-2f90244d5ac7"
      },
      "outputs": [
        {
          "output_type": "execute_result",
          "data": {
            "text/plain": [
              "0\n",
              "Reg.Unit Id             0\n",
              "District Name           0\n",
              "Mandal Name             0\n",
              "Gram Panchayat Name     0\n",
              "Token Registered GPs    0\n",
              "Birth Records Signed    0\n",
              "Total Birth Records     0\n",
              "Death Records Signed    0\n",
              "Total Death Records     0\n",
              "dtype: int64"
            ]
          },
          "metadata": {},
          "execution_count": 30
        }
      ],
      "source": [
        "data.isnull().sum()"
      ]
    },
    {
      "cell_type": "code",
      "execution_count": 32,
      "metadata": {
        "colab": {
          "base_uri": "https://localhost:8080/"
        },
        "id": "TGULXZrGRRZw",
        "outputId": "e4b17612-3abb-48db-cf74-049c02b84261"
      },
      "outputs": [
        {
          "output_type": "stream",
          "name": "stdout",
          "text": [
            "0                                  Token Registered GPs  Birth Records Signed  \\\n",
            "District Name       Mandal Name                                                 \n",
            "ADILABAD            Adilabad                         34                     0   \n",
            "                    Bazarhathnoor                    30                     0   \n",
            "                    Bela                             37                     5   \n",
            "                    Bheempur                         25                     0   \n",
            "                    Boath                            30                     4   \n",
            "...                                                 ...                   ...   \n",
            "YADADRI BHUVANAGIRI Pochampalle                      21                     0   \n",
            "                    Rajapet                          20                     2   \n",
            "                    Ramannapeta                      22                  7895   \n",
            "                    Valigonda                        34                    24   \n",
            "                    Yadagirigutta                    19                     0   \n",
            "\n",
            "0                                  Total Birth Records  Death Records Signed  \\\n",
            "District Name       Mandal Name                                                \n",
            "ADILABAD            Adilabad                       122                    16   \n",
            "                    Bazarhathnoor                  128                     4   \n",
            "                    Bela                           480                    11   \n",
            "                    Bheempur                       421                     0   \n",
            "                    Boath                          308                    22   \n",
            "...                                                ...                   ...   \n",
            "YADADRI BHUVANAGIRI Pochampalle                     50                     2   \n",
            "                    Rajapet                        240                    23   \n",
            "                    Ramannapeta                   7977                   699   \n",
            "                    Valigonda                      576                     8   \n",
            "                    Yadagirigutta                   56                     1   \n",
            "\n",
            "0                                  Total Death Records  \n",
            "District Name       Mandal Name                         \n",
            "ADILABAD            Adilabad                       794  \n",
            "                    Bazarhathnoor                  605  \n",
            "                    Bela                           855  \n",
            "                    Bheempur                       540  \n",
            "                    Boath                          993  \n",
            "...                                                ...  \n",
            "YADADRI BHUVANAGIRI Pochampalle                    438  \n",
            "                    Rajapet                        731  \n",
            "                    Ramannapeta                   1104  \n",
            "                    Valigonda                      791  \n",
            "                    Yadagirigutta                  332  \n",
            "\n",
            "[540 rows x 5 columns]\n"
          ]
        }
      ],
      "source": [
        "print(data.groupby(['District Name','Mandal Name'])[col].sum())"
      ]
    },
    {
      "cell_type": "code",
      "execution_count": 33,
      "metadata": {
        "colab": {
          "base_uri": "https://localhost:8080/",
          "height": 285
        },
        "id": "stlVbJ_kBi_K",
        "outputId": "8df87006-261c-4e7f-9949-d96764bb88a6"
      },
      "outputs": [
        {
          "output_type": "execute_result",
          "data": {
            "text/plain": [
              "0 Reg.Unit Id District Name Mandal Name Gram Panchayat Name  \\\n",
              "0       20001      ADILABAD    Adilabad            Allikori   \n",
              "1       20002      ADILABAD    Adilabad             Ankapur   \n",
              "2       20003      ADILABAD    Adilabad              Ankoli   \n",
              "3       20005      ADILABAD    Adilabad             Arli(B)   \n",
              "4       20006      ADILABAD    Adilabad              Asodha   \n",
              "\n",
              "0  Token Registered GPs  Birth Records Signed  Total Birth Records  \\\n",
              "0                     1                     0                    0   \n",
              "1                     1                     0                    0   \n",
              "2                     1                     0                   11   \n",
              "3                     1                     0                    3   \n",
              "4                     1                     0                    0   \n",
              "\n",
              "0  Death Records Signed  Total Death Records  \n",
              "0                     0                   10  \n",
              "1                     0                   15  \n",
              "2                     0                   56  \n",
              "3                     0                   16  \n",
              "4                     0                    4  "
            ],
            "text/html": [
              "\n",
              "  <div id=\"df-33b8cbe2-37db-4a8b-b885-8e9a93c2d966\">\n",
              "    <div class=\"colab-df-container\">\n",
              "      <div>\n",
              "<style scoped>\n",
              "    .dataframe tbody tr th:only-of-type {\n",
              "        vertical-align: middle;\n",
              "    }\n",
              "\n",
              "    .dataframe tbody tr th {\n",
              "        vertical-align: top;\n",
              "    }\n",
              "\n",
              "    .dataframe thead th {\n",
              "        text-align: right;\n",
              "    }\n",
              "</style>\n",
              "<table border=\"1\" class=\"dataframe\">\n",
              "  <thead>\n",
              "    <tr style=\"text-align: right;\">\n",
              "      <th></th>\n",
              "      <th>Reg.Unit Id</th>\n",
              "      <th>District Name</th>\n",
              "      <th>Mandal Name</th>\n",
              "      <th>Gram Panchayat Name</th>\n",
              "      <th>Token Registered GPs</th>\n",
              "      <th>Birth Records Signed</th>\n",
              "      <th>Total Birth Records</th>\n",
              "      <th>Death Records Signed</th>\n",
              "      <th>Total Death Records</th>\n",
              "    </tr>\n",
              "  </thead>\n",
              "  <tbody>\n",
              "    <tr>\n",
              "      <th>0</th>\n",
              "      <td>20001</td>\n",
              "      <td>ADILABAD</td>\n",
              "      <td>Adilabad</td>\n",
              "      <td>Allikori</td>\n",
              "      <td>1</td>\n",
              "      <td>0</td>\n",
              "      <td>0</td>\n",
              "      <td>0</td>\n",
              "      <td>10</td>\n",
              "    </tr>\n",
              "    <tr>\n",
              "      <th>1</th>\n",
              "      <td>20002</td>\n",
              "      <td>ADILABAD</td>\n",
              "      <td>Adilabad</td>\n",
              "      <td>Ankapur</td>\n",
              "      <td>1</td>\n",
              "      <td>0</td>\n",
              "      <td>0</td>\n",
              "      <td>0</td>\n",
              "      <td>15</td>\n",
              "    </tr>\n",
              "    <tr>\n",
              "      <th>2</th>\n",
              "      <td>20003</td>\n",
              "      <td>ADILABAD</td>\n",
              "      <td>Adilabad</td>\n",
              "      <td>Ankoli</td>\n",
              "      <td>1</td>\n",
              "      <td>0</td>\n",
              "      <td>11</td>\n",
              "      <td>0</td>\n",
              "      <td>56</td>\n",
              "    </tr>\n",
              "    <tr>\n",
              "      <th>3</th>\n",
              "      <td>20005</td>\n",
              "      <td>ADILABAD</td>\n",
              "      <td>Adilabad</td>\n",
              "      <td>Arli(B)</td>\n",
              "      <td>1</td>\n",
              "      <td>0</td>\n",
              "      <td>3</td>\n",
              "      <td>0</td>\n",
              "      <td>16</td>\n",
              "    </tr>\n",
              "    <tr>\n",
              "      <th>4</th>\n",
              "      <td>20006</td>\n",
              "      <td>ADILABAD</td>\n",
              "      <td>Adilabad</td>\n",
              "      <td>Asodha</td>\n",
              "      <td>1</td>\n",
              "      <td>0</td>\n",
              "      <td>0</td>\n",
              "      <td>0</td>\n",
              "      <td>4</td>\n",
              "    </tr>\n",
              "  </tbody>\n",
              "</table>\n",
              "</div>\n",
              "      <button class=\"colab-df-convert\" onclick=\"convertToInteractive('df-33b8cbe2-37db-4a8b-b885-8e9a93c2d966')\"\n",
              "              title=\"Convert this dataframe to an interactive table.\"\n",
              "              style=\"display:none;\">\n",
              "        \n",
              "  <svg xmlns=\"http://www.w3.org/2000/svg\" height=\"24px\"viewBox=\"0 0 24 24\"\n",
              "       width=\"24px\">\n",
              "    <path d=\"M0 0h24v24H0V0z\" fill=\"none\"/>\n",
              "    <path d=\"M18.56 5.44l.94 2.06.94-2.06 2.06-.94-2.06-.94-.94-2.06-.94 2.06-2.06.94zm-11 1L8.5 8.5l.94-2.06 2.06-.94-2.06-.94L8.5 2.5l-.94 2.06-2.06.94zm10 10l.94 2.06.94-2.06 2.06-.94-2.06-.94-.94-2.06-.94 2.06-2.06.94z\"/><path d=\"M17.41 7.96l-1.37-1.37c-.4-.4-.92-.59-1.43-.59-.52 0-1.04.2-1.43.59L10.3 9.45l-7.72 7.72c-.78.78-.78 2.05 0 2.83L4 21.41c.39.39.9.59 1.41.59.51 0 1.02-.2 1.41-.59l7.78-7.78 2.81-2.81c.8-.78.8-2.07 0-2.86zM5.41 20L4 18.59l7.72-7.72 1.47 1.35L5.41 20z\"/>\n",
              "  </svg>\n",
              "      </button>\n",
              "      \n",
              "  <style>\n",
              "    .colab-df-container {\n",
              "      display:flex;\n",
              "      flex-wrap:wrap;\n",
              "      gap: 12px;\n",
              "    }\n",
              "\n",
              "    .colab-df-convert {\n",
              "      background-color: #E8F0FE;\n",
              "      border: none;\n",
              "      border-radius: 50%;\n",
              "      cursor: pointer;\n",
              "      display: none;\n",
              "      fill: #1967D2;\n",
              "      height: 32px;\n",
              "      padding: 0 0 0 0;\n",
              "      width: 32px;\n",
              "    }\n",
              "\n",
              "    .colab-df-convert:hover {\n",
              "      background-color: #E2EBFA;\n",
              "      box-shadow: 0px 1px 2px rgba(60, 64, 67, 0.3), 0px 1px 3px 1px rgba(60, 64, 67, 0.15);\n",
              "      fill: #174EA6;\n",
              "    }\n",
              "\n",
              "    [theme=dark] .colab-df-convert {\n",
              "      background-color: #3B4455;\n",
              "      fill: #D2E3FC;\n",
              "    }\n",
              "\n",
              "    [theme=dark] .colab-df-convert:hover {\n",
              "      background-color: #434B5C;\n",
              "      box-shadow: 0px 1px 3px 1px rgba(0, 0, 0, 0.15);\n",
              "      filter: drop-shadow(0px 1px 2px rgba(0, 0, 0, 0.3));\n",
              "      fill: #FFFFFF;\n",
              "    }\n",
              "  </style>\n",
              "\n",
              "      <script>\n",
              "        const buttonEl =\n",
              "          document.querySelector('#df-33b8cbe2-37db-4a8b-b885-8e9a93c2d966 button.colab-df-convert');\n",
              "        buttonEl.style.display =\n",
              "          google.colab.kernel.accessAllowed ? 'block' : 'none';\n",
              "\n",
              "        async function convertToInteractive(key) {\n",
              "          const element = document.querySelector('#df-33b8cbe2-37db-4a8b-b885-8e9a93c2d966');\n",
              "          const dataTable =\n",
              "            await google.colab.kernel.invokeFunction('convertToInteractive',\n",
              "                                                     [key], {});\n",
              "          if (!dataTable) return;\n",
              "\n",
              "          const docLinkHtml = 'Like what you see? Visit the ' +\n",
              "            '<a target=\"_blank\" href=https://colab.research.google.com/notebooks/data_table.ipynb>data table notebook</a>'\n",
              "            + ' to learn more about interactive tables.';\n",
              "          element.innerHTML = '';\n",
              "          dataTable['output_type'] = 'display_data';\n",
              "          await google.colab.output.renderOutput(dataTable, element);\n",
              "          const docLink = document.createElement('div');\n",
              "          docLink.innerHTML = docLinkHtml;\n",
              "          element.appendChild(docLink);\n",
              "        }\n",
              "      </script>\n",
              "    </div>\n",
              "  </div>\n",
              "  "
            ]
          },
          "metadata": {},
          "execution_count": 33
        }
      ],
      "source": [
        "data.head()"
      ]
    },
    {
      "cell_type": "code",
      "execution_count": 46,
      "metadata": {
        "colab": {
          "base_uri": "https://localhost:8080/"
        },
        "id": "xKUxypArEOTD",
        "outputId": "b9ab6395-2e8c-4752-d019-ecef95f3365b"
      },
      "outputs": [
        {
          "output_type": "stream",
          "name": "stdout",
          "text": [
            "0   Reg.Unit Id District Name Mandal Name Gram Panchayat Name  \\\n",
            "0          2936    PEDDAPALLI  Anthargaon          Akenapalli   \n",
            "1          2937    PEDDAPALLI  Anthargaon          Anthergoan   \n",
            "2          2938    PEDDAPALLI  Anthargaon        Brahmanpalli   \n",
            "3          2939    PEDDAPALLI  Anthargaon            Eklaspur   \n",
            "4         25329    PEDDAPALLI  Anthargaon             Esampet   \n",
            "..          ...           ...         ...                 ...   \n",
            "261       25395    PEDDAPALLI  Sultanabad         Ramunipalli   \n",
            "262        2860    PEDDAPALLI  Sultanabad  Regadi Maddi Kunta   \n",
            "263        2861    PEDDAPALLI  Sultanabad       Sambaiahpalli   \n",
            "264        2862    PEDDAPALLI  Sultanabad             Suddala   \n",
            "265        2864    PEDDAPALLI  Sultanabad           Thogarrai   \n",
            "\n",
            "0    Token Registered GPs  Birth Records Signed  Total Birth Records  \\\n",
            "0                       1                     0                    0   \n",
            "1                       1                     0                    0   \n",
            "2                       1                     0                    3   \n",
            "3                       1                     0                    1   \n",
            "4                       1                     0                    0   \n",
            "..                    ...                   ...                  ...   \n",
            "261                     1                     0                    2   \n",
            "262                     1                     0                    1   \n",
            "263                     1                     0                    0   \n",
            "264                     1                     0                    4   \n",
            "265                     1                     0                    2   \n",
            "\n",
            "0    Death Records Signed  Total Death Records  \n",
            "0                       1                   23  \n",
            "1                       0                   32  \n",
            "2                       0                   37  \n",
            "3                       0                   12  \n",
            "4                       0                   11  \n",
            "..                    ...                  ...  \n",
            "261                     0                   24  \n",
            "262                     1                   90  \n",
            "263                     0                   38  \n",
            "264                     2                   82  \n",
            "265                     4                   66  \n",
            "\n",
            "[266 rows x 9 columns]\n"
          ]
        }
      ],
      "source": [
        "dist=data[data['District Name']=='PEDDAPALLI']\n",
        "dist=dist.reset_index()\n",
        "dist.drop('index',axis=1,inplace=True)\n",
        "print(dist)"
      ]
    },
    {
      "cell_type": "code",
      "execution_count": 35,
      "metadata": {
        "id": "Uch_SgCPHTiT",
        "colab": {
          "base_uri": "https://localhost:8080/"
        },
        "outputId": "4281805e-3d6b-41a0-b37e-759a5b27cdb8"
      },
      "outputs": [
        {
          "output_type": "execute_result",
          "data": {
            "text/plain": [
              "array(['ADILABAD', 'BHADRADRI KOTHAGUDEM', 'HANUMAKONDA', 'JAGTIAL',\n",
              "       'JANGOAN', 'JAYASHANKAR BHUPALPALLI', 'JOGULAMBA GADWAL',\n",
              "       'KAMAREDDY', 'KARIMNAGAR', 'KHAMMAM', 'KOMARAMBHEEM ASIFABAD',\n",
              "       'MAHABUBABAD', 'MAHABUBNAGAR', 'MANCHERIAL', 'MEDAK',\n",
              "       'MEDCHAL MALKAJIGIRI', 'MULUGU', 'NAGARKURNOOL', 'NALGONDA',\n",
              "       'NARAYANPET', 'NIRMAL', 'NIZAMABAD', 'PEDDAPALLI',\n",
              "       'RAJANNA SIRCILLA', 'RANGAREDDY', 'SANGAREDDY', 'SIDDIPET',\n",
              "       'SURYAPET', 'VIKARABAD', 'WANAPARTHY', 'WARANGAL',\n",
              "       'YADADRI BHUVANAGIRI'], dtype=object)"
            ]
          },
          "metadata": {},
          "execution_count": 35
        }
      ],
      "source": [
        "data['District Name'].unique()"
      ]
    },
    {
      "cell_type": "code",
      "source": [
        "x=input('Enter your District Name: ')"
      ],
      "metadata": {
        "colab": {
          "base_uri": "https://localhost:8080/"
        },
        "id": "QbJmG9eNAZZ5",
        "outputId": "2b8db5d8-1e42-498f-ace7-8a22d67af4dc"
      },
      "execution_count": 37,
      "outputs": [
        {
          "name": "stdout",
          "output_type": "stream",
          "text": [
            "Enter your District NamePEDDAPALLI\n"
          ]
        }
      ]
    },
    {
      "cell_type": "code",
      "source": [
        "print(x)"
      ],
      "metadata": {
        "colab": {
          "base_uri": "https://localhost:8080/"
        },
        "id": "F6XHZXWKAytu",
        "outputId": "88bc0bd0-f03a-4163-d713-f2c8a880411b"
      },
      "execution_count": 38,
      "outputs": [
        {
          "output_type": "stream",
          "name": "stdout",
          "text": [
            "PEDDAPALLI\n"
          ]
        }
      ]
    },
    {
      "cell_type": "code",
      "source": [
        "x=input('Enter your District Name: ')\n",
        "dist=data[data['District Name']==x]\n",
        "dist=dist.reset_index()\n",
        "dist.drop('index',axis=1,inplace=True)\n",
        "mdl_abs=pd.pivot_table(dist,index='Mandal Name', values=col, aggfunc='sum', margins=True, margins_name='Total')\n",
        "dist_abs=dist.groupby('District Name')[col].sum()\n",
        "\n",
        "# Create a Pandas Excel writer using XlsxWriter .\n",
        "writer =pd.ExcelWriter('UBDMISREPORT.xlsx')\n",
        "dist_abs.to_excel(writer, sheet_name='Dist_abstract')\n",
        "mdl_abs.to_excel(writer, sheet_name='mdl_abstract')\n",
        "dist.to_excel(writer, sheet_name='gpwiseReport')\n",
        "writer.save()\n",
        "print(f\"{x} District, Mandal and GP wise UBD MIS report files saved successfully\")"
      ],
      "metadata": {
        "colab": {
          "base_uri": "https://localhost:8080/"
        },
        "id": "_4-CriwEA4V6",
        "outputId": "4287f492-fd86-42d6-e1dc-d028eae09da1"
      },
      "execution_count": 59,
      "outputs": [
        {
          "output_type": "stream",
          "name": "stdout",
          "text": [
            "Enter your District Name: PEDDAPALLI\n",
            "PEDDAPALLI District, Mandal and GP wise report files saved successfully\n"
          ]
        }
      ]
    },
    {
      "cell_type": "code",
      "source": [
        "dist.head()"
      ],
      "metadata": {
        "colab": {
          "base_uri": "https://localhost:8080/",
          "height": 285
        },
        "id": "nhmeLSLEBHAd",
        "outputId": "b8966dd7-35e2-464c-a2f8-17b665af66c9"
      },
      "execution_count": 55,
      "outputs": [
        {
          "output_type": "execute_result",
          "data": {
            "text/plain": [
              "0 Reg.Unit Id District Name Mandal Name Gram Panchayat Name  \\\n",
              "0        2936    PEDDAPALLI  Anthargaon          Akenapalli   \n",
              "1        2937    PEDDAPALLI  Anthargaon          Anthergoan   \n",
              "2        2938    PEDDAPALLI  Anthargaon        Brahmanpalli   \n",
              "3        2939    PEDDAPALLI  Anthargaon            Eklaspur   \n",
              "4       25329    PEDDAPALLI  Anthargaon             Esampet   \n",
              "\n",
              "0  Token Registered GPs  Birth Records Signed  Total Birth Records  \\\n",
              "0                     1                     0                    0   \n",
              "1                     1                     0                    0   \n",
              "2                     1                     0                    3   \n",
              "3                     1                     0                    1   \n",
              "4                     1                     0                    0   \n",
              "\n",
              "0  Death Records Signed  Total Death Records  \n",
              "0                     1                   23  \n",
              "1                     0                   32  \n",
              "2                     0                   37  \n",
              "3                     0                   12  \n",
              "4                     0                   11  "
            ],
            "text/html": [
              "\n",
              "  <div id=\"df-175abe69-8328-486a-bc09-db5bf4a2fd55\">\n",
              "    <div class=\"colab-df-container\">\n",
              "      <div>\n",
              "<style scoped>\n",
              "    .dataframe tbody tr th:only-of-type {\n",
              "        vertical-align: middle;\n",
              "    }\n",
              "\n",
              "    .dataframe tbody tr th {\n",
              "        vertical-align: top;\n",
              "    }\n",
              "\n",
              "    .dataframe thead th {\n",
              "        text-align: right;\n",
              "    }\n",
              "</style>\n",
              "<table border=\"1\" class=\"dataframe\">\n",
              "  <thead>\n",
              "    <tr style=\"text-align: right;\">\n",
              "      <th></th>\n",
              "      <th>Reg.Unit Id</th>\n",
              "      <th>District Name</th>\n",
              "      <th>Mandal Name</th>\n",
              "      <th>Gram Panchayat Name</th>\n",
              "      <th>Token Registered GPs</th>\n",
              "      <th>Birth Records Signed</th>\n",
              "      <th>Total Birth Records</th>\n",
              "      <th>Death Records Signed</th>\n",
              "      <th>Total Death Records</th>\n",
              "    </tr>\n",
              "  </thead>\n",
              "  <tbody>\n",
              "    <tr>\n",
              "      <th>0</th>\n",
              "      <td>2936</td>\n",
              "      <td>PEDDAPALLI</td>\n",
              "      <td>Anthargaon</td>\n",
              "      <td>Akenapalli</td>\n",
              "      <td>1</td>\n",
              "      <td>0</td>\n",
              "      <td>0</td>\n",
              "      <td>1</td>\n",
              "      <td>23</td>\n",
              "    </tr>\n",
              "    <tr>\n",
              "      <th>1</th>\n",
              "      <td>2937</td>\n",
              "      <td>PEDDAPALLI</td>\n",
              "      <td>Anthargaon</td>\n",
              "      <td>Anthergoan</td>\n",
              "      <td>1</td>\n",
              "      <td>0</td>\n",
              "      <td>0</td>\n",
              "      <td>0</td>\n",
              "      <td>32</td>\n",
              "    </tr>\n",
              "    <tr>\n",
              "      <th>2</th>\n",
              "      <td>2938</td>\n",
              "      <td>PEDDAPALLI</td>\n",
              "      <td>Anthargaon</td>\n",
              "      <td>Brahmanpalli</td>\n",
              "      <td>1</td>\n",
              "      <td>0</td>\n",
              "      <td>3</td>\n",
              "      <td>0</td>\n",
              "      <td>37</td>\n",
              "    </tr>\n",
              "    <tr>\n",
              "      <th>3</th>\n",
              "      <td>2939</td>\n",
              "      <td>PEDDAPALLI</td>\n",
              "      <td>Anthargaon</td>\n",
              "      <td>Eklaspur</td>\n",
              "      <td>1</td>\n",
              "      <td>0</td>\n",
              "      <td>1</td>\n",
              "      <td>0</td>\n",
              "      <td>12</td>\n",
              "    </tr>\n",
              "    <tr>\n",
              "      <th>4</th>\n",
              "      <td>25329</td>\n",
              "      <td>PEDDAPALLI</td>\n",
              "      <td>Anthargaon</td>\n",
              "      <td>Esampet</td>\n",
              "      <td>1</td>\n",
              "      <td>0</td>\n",
              "      <td>0</td>\n",
              "      <td>0</td>\n",
              "      <td>11</td>\n",
              "    </tr>\n",
              "  </tbody>\n",
              "</table>\n",
              "</div>\n",
              "      <button class=\"colab-df-convert\" onclick=\"convertToInteractive('df-175abe69-8328-486a-bc09-db5bf4a2fd55')\"\n",
              "              title=\"Convert this dataframe to an interactive table.\"\n",
              "              style=\"display:none;\">\n",
              "        \n",
              "  <svg xmlns=\"http://www.w3.org/2000/svg\" height=\"24px\"viewBox=\"0 0 24 24\"\n",
              "       width=\"24px\">\n",
              "    <path d=\"M0 0h24v24H0V0z\" fill=\"none\"/>\n",
              "    <path d=\"M18.56 5.44l.94 2.06.94-2.06 2.06-.94-2.06-.94-.94-2.06-.94 2.06-2.06.94zm-11 1L8.5 8.5l.94-2.06 2.06-.94-2.06-.94L8.5 2.5l-.94 2.06-2.06.94zm10 10l.94 2.06.94-2.06 2.06-.94-2.06-.94-.94-2.06-.94 2.06-2.06.94z\"/><path d=\"M17.41 7.96l-1.37-1.37c-.4-.4-.92-.59-1.43-.59-.52 0-1.04.2-1.43.59L10.3 9.45l-7.72 7.72c-.78.78-.78 2.05 0 2.83L4 21.41c.39.39.9.59 1.41.59.51 0 1.02-.2 1.41-.59l7.78-7.78 2.81-2.81c.8-.78.8-2.07 0-2.86zM5.41 20L4 18.59l7.72-7.72 1.47 1.35L5.41 20z\"/>\n",
              "  </svg>\n",
              "      </button>\n",
              "      \n",
              "  <style>\n",
              "    .colab-df-container {\n",
              "      display:flex;\n",
              "      flex-wrap:wrap;\n",
              "      gap: 12px;\n",
              "    }\n",
              "\n",
              "    .colab-df-convert {\n",
              "      background-color: #E8F0FE;\n",
              "      border: none;\n",
              "      border-radius: 50%;\n",
              "      cursor: pointer;\n",
              "      display: none;\n",
              "      fill: #1967D2;\n",
              "      height: 32px;\n",
              "      padding: 0 0 0 0;\n",
              "      width: 32px;\n",
              "    }\n",
              "\n",
              "    .colab-df-convert:hover {\n",
              "      background-color: #E2EBFA;\n",
              "      box-shadow: 0px 1px 2px rgba(60, 64, 67, 0.3), 0px 1px 3px 1px rgba(60, 64, 67, 0.15);\n",
              "      fill: #174EA6;\n",
              "    }\n",
              "\n",
              "    [theme=dark] .colab-df-convert {\n",
              "      background-color: #3B4455;\n",
              "      fill: #D2E3FC;\n",
              "    }\n",
              "\n",
              "    [theme=dark] .colab-df-convert:hover {\n",
              "      background-color: #434B5C;\n",
              "      box-shadow: 0px 1px 3px 1px rgba(0, 0, 0, 0.15);\n",
              "      filter: drop-shadow(0px 1px 2px rgba(0, 0, 0, 0.3));\n",
              "      fill: #FFFFFF;\n",
              "    }\n",
              "  </style>\n",
              "\n",
              "      <script>\n",
              "        const buttonEl =\n",
              "          document.querySelector('#df-175abe69-8328-486a-bc09-db5bf4a2fd55 button.colab-df-convert');\n",
              "        buttonEl.style.display =\n",
              "          google.colab.kernel.accessAllowed ? 'block' : 'none';\n",
              "\n",
              "        async function convertToInteractive(key) {\n",
              "          const element = document.querySelector('#df-175abe69-8328-486a-bc09-db5bf4a2fd55');\n",
              "          const dataTable =\n",
              "            await google.colab.kernel.invokeFunction('convertToInteractive',\n",
              "                                                     [key], {});\n",
              "          if (!dataTable) return;\n",
              "\n",
              "          const docLinkHtml = 'Like what you see? Visit the ' +\n",
              "            '<a target=\"_blank\" href=https://colab.research.google.com/notebooks/data_table.ipynb>data table notebook</a>'\n",
              "            + ' to learn more about interactive tables.';\n",
              "          element.innerHTML = '';\n",
              "          dataTable['output_type'] = 'display_data';\n",
              "          await google.colab.output.renderOutput(dataTable, element);\n",
              "          const docLink = document.createElement('div');\n",
              "          docLink.innerHTML = docLinkHtml;\n",
              "          element.appendChild(docLink);\n",
              "        }\n",
              "      </script>\n",
              "    </div>\n",
              "  </div>\n",
              "  "
            ]
          },
          "metadata": {},
          "execution_count": 55
        }
      ]
    },
    {
      "cell_type": "code",
      "source": [
        "dist.groupby('Mandal Name')[col].sum()"
      ],
      "metadata": {
        "colab": {
          "base_uri": "https://localhost:8080/",
          "height": 567
        },
        "id": "IlUv_FQ_Ja1y",
        "outputId": "ca433293-4a5f-44c0-95ea-2635f3d641b4"
      },
      "execution_count": 56,
      "outputs": [
        {
          "output_type": "execute_result",
          "data": {
            "text/plain": [
              "0                  Token Registered GPs  Birth Records Signed  \\\n",
              "Mandal Name                                                     \n",
              "Anthargaon                           16                     0   \n",
              "Dharmaram                            29                     2   \n",
              "Eligaid                              12                     7   \n",
              "Julapalle                            13                   106   \n",
              "Kamanpur                              9                     4   \n",
              "Manthani                             34                     1   \n",
              "Mutharam Manthani                    14                     0   \n",
              "Odela                                22                     1   \n",
              "Palakurthi                           19                     1   \n",
              "Peddapalle                           30                     3   \n",
              "Ramagiri                             17                     0   \n",
              "Srirampur                            24                     1   \n",
              "Sultanabad                           27                     0   \n",
              "\n",
              "0                  Total Birth Records  Death Records Signed  \\\n",
              "Mandal Name                                                    \n",
              "Anthargaon                          24                    10   \n",
              "Dharmaram                          823                    20   \n",
              "Eligaid                             28                    65   \n",
              "Julapalle                          120                   328   \n",
              "Kamanpur                            56                    15   \n",
              "Manthani                            74                    35   \n",
              "Mutharam Manthani                   23                    11   \n",
              "Odela                               43                    19   \n",
              "Palakurthi                          46                    29   \n",
              "Peddapalle                         158                    35   \n",
              "Ramagiri                            79                     1   \n",
              "Srirampur                           67                    21   \n",
              "Sultanabad                          77                    23   \n",
              "\n",
              "0                  Total Death Records  \n",
              "Mandal Name                             \n",
              "Anthargaon                         627  \n",
              "Dharmaram                         1327  \n",
              "Eligaid                            572  \n",
              "Julapalle                         1014  \n",
              "Kamanpur                           527  \n",
              "Manthani                           995  \n",
              "Mutharam Manthani                  633  \n",
              "Odela                             1234  \n",
              "Palakurthi                         826  \n",
              "Peddapalle                        1606  \n",
              "Ramagiri                           949  \n",
              "Srirampur                         1318  \n",
              "Sultanabad                        1322  "
            ],
            "text/html": [
              "\n",
              "  <div id=\"df-e84a2740-06ab-45df-9bd0-50f698f9b670\">\n",
              "    <div class=\"colab-df-container\">\n",
              "      <div>\n",
              "<style scoped>\n",
              "    .dataframe tbody tr th:only-of-type {\n",
              "        vertical-align: middle;\n",
              "    }\n",
              "\n",
              "    .dataframe tbody tr th {\n",
              "        vertical-align: top;\n",
              "    }\n",
              "\n",
              "    .dataframe thead th {\n",
              "        text-align: right;\n",
              "    }\n",
              "</style>\n",
              "<table border=\"1\" class=\"dataframe\">\n",
              "  <thead>\n",
              "    <tr style=\"text-align: right;\">\n",
              "      <th></th>\n",
              "      <th>Token Registered GPs</th>\n",
              "      <th>Birth Records Signed</th>\n",
              "      <th>Total Birth Records</th>\n",
              "      <th>Death Records Signed</th>\n",
              "      <th>Total Death Records</th>\n",
              "    </tr>\n",
              "    <tr>\n",
              "      <th>Mandal Name</th>\n",
              "      <th></th>\n",
              "      <th></th>\n",
              "      <th></th>\n",
              "      <th></th>\n",
              "      <th></th>\n",
              "    </tr>\n",
              "  </thead>\n",
              "  <tbody>\n",
              "    <tr>\n",
              "      <th>Anthargaon</th>\n",
              "      <td>16</td>\n",
              "      <td>0</td>\n",
              "      <td>24</td>\n",
              "      <td>10</td>\n",
              "      <td>627</td>\n",
              "    </tr>\n",
              "    <tr>\n",
              "      <th>Dharmaram</th>\n",
              "      <td>29</td>\n",
              "      <td>2</td>\n",
              "      <td>823</td>\n",
              "      <td>20</td>\n",
              "      <td>1327</td>\n",
              "    </tr>\n",
              "    <tr>\n",
              "      <th>Eligaid</th>\n",
              "      <td>12</td>\n",
              "      <td>7</td>\n",
              "      <td>28</td>\n",
              "      <td>65</td>\n",
              "      <td>572</td>\n",
              "    </tr>\n",
              "    <tr>\n",
              "      <th>Julapalle</th>\n",
              "      <td>13</td>\n",
              "      <td>106</td>\n",
              "      <td>120</td>\n",
              "      <td>328</td>\n",
              "      <td>1014</td>\n",
              "    </tr>\n",
              "    <tr>\n",
              "      <th>Kamanpur</th>\n",
              "      <td>9</td>\n",
              "      <td>4</td>\n",
              "      <td>56</td>\n",
              "      <td>15</td>\n",
              "      <td>527</td>\n",
              "    </tr>\n",
              "    <tr>\n",
              "      <th>Manthani</th>\n",
              "      <td>34</td>\n",
              "      <td>1</td>\n",
              "      <td>74</td>\n",
              "      <td>35</td>\n",
              "      <td>995</td>\n",
              "    </tr>\n",
              "    <tr>\n",
              "      <th>Mutharam Manthani</th>\n",
              "      <td>14</td>\n",
              "      <td>0</td>\n",
              "      <td>23</td>\n",
              "      <td>11</td>\n",
              "      <td>633</td>\n",
              "    </tr>\n",
              "    <tr>\n",
              "      <th>Odela</th>\n",
              "      <td>22</td>\n",
              "      <td>1</td>\n",
              "      <td>43</td>\n",
              "      <td>19</td>\n",
              "      <td>1234</td>\n",
              "    </tr>\n",
              "    <tr>\n",
              "      <th>Palakurthi</th>\n",
              "      <td>19</td>\n",
              "      <td>1</td>\n",
              "      <td>46</td>\n",
              "      <td>29</td>\n",
              "      <td>826</td>\n",
              "    </tr>\n",
              "    <tr>\n",
              "      <th>Peddapalle</th>\n",
              "      <td>30</td>\n",
              "      <td>3</td>\n",
              "      <td>158</td>\n",
              "      <td>35</td>\n",
              "      <td>1606</td>\n",
              "    </tr>\n",
              "    <tr>\n",
              "      <th>Ramagiri</th>\n",
              "      <td>17</td>\n",
              "      <td>0</td>\n",
              "      <td>79</td>\n",
              "      <td>1</td>\n",
              "      <td>949</td>\n",
              "    </tr>\n",
              "    <tr>\n",
              "      <th>Srirampur</th>\n",
              "      <td>24</td>\n",
              "      <td>1</td>\n",
              "      <td>67</td>\n",
              "      <td>21</td>\n",
              "      <td>1318</td>\n",
              "    </tr>\n",
              "    <tr>\n",
              "      <th>Sultanabad</th>\n",
              "      <td>27</td>\n",
              "      <td>0</td>\n",
              "      <td>77</td>\n",
              "      <td>23</td>\n",
              "      <td>1322</td>\n",
              "    </tr>\n",
              "  </tbody>\n",
              "</table>\n",
              "</div>\n",
              "      <button class=\"colab-df-convert\" onclick=\"convertToInteractive('df-e84a2740-06ab-45df-9bd0-50f698f9b670')\"\n",
              "              title=\"Convert this dataframe to an interactive table.\"\n",
              "              style=\"display:none;\">\n",
              "        \n",
              "  <svg xmlns=\"http://www.w3.org/2000/svg\" height=\"24px\"viewBox=\"0 0 24 24\"\n",
              "       width=\"24px\">\n",
              "    <path d=\"M0 0h24v24H0V0z\" fill=\"none\"/>\n",
              "    <path d=\"M18.56 5.44l.94 2.06.94-2.06 2.06-.94-2.06-.94-.94-2.06-.94 2.06-2.06.94zm-11 1L8.5 8.5l.94-2.06 2.06-.94-2.06-.94L8.5 2.5l-.94 2.06-2.06.94zm10 10l.94 2.06.94-2.06 2.06-.94-2.06-.94-.94-2.06-.94 2.06-2.06.94z\"/><path d=\"M17.41 7.96l-1.37-1.37c-.4-.4-.92-.59-1.43-.59-.52 0-1.04.2-1.43.59L10.3 9.45l-7.72 7.72c-.78.78-.78 2.05 0 2.83L4 21.41c.39.39.9.59 1.41.59.51 0 1.02-.2 1.41-.59l7.78-7.78 2.81-2.81c.8-.78.8-2.07 0-2.86zM5.41 20L4 18.59l7.72-7.72 1.47 1.35L5.41 20z\"/>\n",
              "  </svg>\n",
              "      </button>\n",
              "      \n",
              "  <style>\n",
              "    .colab-df-container {\n",
              "      display:flex;\n",
              "      flex-wrap:wrap;\n",
              "      gap: 12px;\n",
              "    }\n",
              "\n",
              "    .colab-df-convert {\n",
              "      background-color: #E8F0FE;\n",
              "      border: none;\n",
              "      border-radius: 50%;\n",
              "      cursor: pointer;\n",
              "      display: none;\n",
              "      fill: #1967D2;\n",
              "      height: 32px;\n",
              "      padding: 0 0 0 0;\n",
              "      width: 32px;\n",
              "    }\n",
              "\n",
              "    .colab-df-convert:hover {\n",
              "      background-color: #E2EBFA;\n",
              "      box-shadow: 0px 1px 2px rgba(60, 64, 67, 0.3), 0px 1px 3px 1px rgba(60, 64, 67, 0.15);\n",
              "      fill: #174EA6;\n",
              "    }\n",
              "\n",
              "    [theme=dark] .colab-df-convert {\n",
              "      background-color: #3B4455;\n",
              "      fill: #D2E3FC;\n",
              "    }\n",
              "\n",
              "    [theme=dark] .colab-df-convert:hover {\n",
              "      background-color: #434B5C;\n",
              "      box-shadow: 0px 1px 3px 1px rgba(0, 0, 0, 0.15);\n",
              "      filter: drop-shadow(0px 1px 2px rgba(0, 0, 0, 0.3));\n",
              "      fill: #FFFFFF;\n",
              "    }\n",
              "  </style>\n",
              "\n",
              "      <script>\n",
              "        const buttonEl =\n",
              "          document.querySelector('#df-e84a2740-06ab-45df-9bd0-50f698f9b670 button.colab-df-convert');\n",
              "        buttonEl.style.display =\n",
              "          google.colab.kernel.accessAllowed ? 'block' : 'none';\n",
              "\n",
              "        async function convertToInteractive(key) {\n",
              "          const element = document.querySelector('#df-e84a2740-06ab-45df-9bd0-50f698f9b670');\n",
              "          const dataTable =\n",
              "            await google.colab.kernel.invokeFunction('convertToInteractive',\n",
              "                                                     [key], {});\n",
              "          if (!dataTable) return;\n",
              "\n",
              "          const docLinkHtml = 'Like what you see? Visit the ' +\n",
              "            '<a target=\"_blank\" href=https://colab.research.google.com/notebooks/data_table.ipynb>data table notebook</a>'\n",
              "            + ' to learn more about interactive tables.';\n",
              "          element.innerHTML = '';\n",
              "          dataTable['output_type'] = 'display_data';\n",
              "          await google.colab.output.renderOutput(dataTable, element);\n",
              "          const docLink = document.createElement('div');\n",
              "          docLink.innerHTML = docLinkHtml;\n",
              "          element.appendChild(docLink);\n",
              "        }\n",
              "      </script>\n",
              "    </div>\n",
              "  </div>\n",
              "  "
            ]
          },
          "metadata": {},
          "execution_count": 56
        }
      ]
    },
    {
      "cell_type": "code",
      "source": [
        "pd.pivot_table(dist,index='Mandal Name', values=col, aggfunc='sum', margins=True, margins_name='Total')"
      ],
      "metadata": {
        "colab": {
          "base_uri": "https://localhost:8080/",
          "height": 599
        },
        "id": "gk3rFHFNJo1K",
        "outputId": "25a64b5e-4a3f-4fa2-e8d8-324ce3ddde2c"
      },
      "execution_count": 58,
      "outputs": [
        {
          "output_type": "execute_result",
          "data": {
            "text/plain": [
              "0                  Birth Records Signed  Death Records Signed  \\\n",
              "Mandal Name                                                     \n",
              "Anthargaon                            0                    10   \n",
              "Dharmaram                             2                    20   \n",
              "Eligaid                               7                    65   \n",
              "Julapalle                           106                   328   \n",
              "Kamanpur                              4                    15   \n",
              "Manthani                              1                    35   \n",
              "Mutharam Manthani                     0                    11   \n",
              "Odela                                 1                    19   \n",
              "Palakurthi                            1                    29   \n",
              "Peddapalle                            3                    35   \n",
              "Ramagiri                              0                     1   \n",
              "Srirampur                             1                    21   \n",
              "Sultanabad                            0                    23   \n",
              "Total                               126                   612   \n",
              "\n",
              "0                  Token Registered GPs  Total Birth Records  \\\n",
              "Mandal Name                                                    \n",
              "Anthargaon                           16                   24   \n",
              "Dharmaram                            29                  823   \n",
              "Eligaid                              12                   28   \n",
              "Julapalle                            13                  120   \n",
              "Kamanpur                              9                   56   \n",
              "Manthani                             34                   74   \n",
              "Mutharam Manthani                    14                   23   \n",
              "Odela                                22                   43   \n",
              "Palakurthi                           19                   46   \n",
              "Peddapalle                           30                  158   \n",
              "Ramagiri                             17                   79   \n",
              "Srirampur                            24                   67   \n",
              "Sultanabad                           27                   77   \n",
              "Total                               266                 1618   \n",
              "\n",
              "0                  Total Death Records  \n",
              "Mandal Name                             \n",
              "Anthargaon                         627  \n",
              "Dharmaram                         1327  \n",
              "Eligaid                            572  \n",
              "Julapalle                         1014  \n",
              "Kamanpur                           527  \n",
              "Manthani                           995  \n",
              "Mutharam Manthani                  633  \n",
              "Odela                             1234  \n",
              "Palakurthi                         826  \n",
              "Peddapalle                        1606  \n",
              "Ramagiri                           949  \n",
              "Srirampur                         1318  \n",
              "Sultanabad                        1322  \n",
              "Total                            12950  "
            ],
            "text/html": [
              "\n",
              "  <div id=\"df-c583aa03-f5d1-4502-b7e8-43ee0d1a1887\">\n",
              "    <div class=\"colab-df-container\">\n",
              "      <div>\n",
              "<style scoped>\n",
              "    .dataframe tbody tr th:only-of-type {\n",
              "        vertical-align: middle;\n",
              "    }\n",
              "\n",
              "    .dataframe tbody tr th {\n",
              "        vertical-align: top;\n",
              "    }\n",
              "\n",
              "    .dataframe thead th {\n",
              "        text-align: right;\n",
              "    }\n",
              "</style>\n",
              "<table border=\"1\" class=\"dataframe\">\n",
              "  <thead>\n",
              "    <tr style=\"text-align: right;\">\n",
              "      <th></th>\n",
              "      <th>Birth Records Signed</th>\n",
              "      <th>Death Records Signed</th>\n",
              "      <th>Token Registered GPs</th>\n",
              "      <th>Total Birth Records</th>\n",
              "      <th>Total Death Records</th>\n",
              "    </tr>\n",
              "    <tr>\n",
              "      <th>Mandal Name</th>\n",
              "      <th></th>\n",
              "      <th></th>\n",
              "      <th></th>\n",
              "      <th></th>\n",
              "      <th></th>\n",
              "    </tr>\n",
              "  </thead>\n",
              "  <tbody>\n",
              "    <tr>\n",
              "      <th>Anthargaon</th>\n",
              "      <td>0</td>\n",
              "      <td>10</td>\n",
              "      <td>16</td>\n",
              "      <td>24</td>\n",
              "      <td>627</td>\n",
              "    </tr>\n",
              "    <tr>\n",
              "      <th>Dharmaram</th>\n",
              "      <td>2</td>\n",
              "      <td>20</td>\n",
              "      <td>29</td>\n",
              "      <td>823</td>\n",
              "      <td>1327</td>\n",
              "    </tr>\n",
              "    <tr>\n",
              "      <th>Eligaid</th>\n",
              "      <td>7</td>\n",
              "      <td>65</td>\n",
              "      <td>12</td>\n",
              "      <td>28</td>\n",
              "      <td>572</td>\n",
              "    </tr>\n",
              "    <tr>\n",
              "      <th>Julapalle</th>\n",
              "      <td>106</td>\n",
              "      <td>328</td>\n",
              "      <td>13</td>\n",
              "      <td>120</td>\n",
              "      <td>1014</td>\n",
              "    </tr>\n",
              "    <tr>\n",
              "      <th>Kamanpur</th>\n",
              "      <td>4</td>\n",
              "      <td>15</td>\n",
              "      <td>9</td>\n",
              "      <td>56</td>\n",
              "      <td>527</td>\n",
              "    </tr>\n",
              "    <tr>\n",
              "      <th>Manthani</th>\n",
              "      <td>1</td>\n",
              "      <td>35</td>\n",
              "      <td>34</td>\n",
              "      <td>74</td>\n",
              "      <td>995</td>\n",
              "    </tr>\n",
              "    <tr>\n",
              "      <th>Mutharam Manthani</th>\n",
              "      <td>0</td>\n",
              "      <td>11</td>\n",
              "      <td>14</td>\n",
              "      <td>23</td>\n",
              "      <td>633</td>\n",
              "    </tr>\n",
              "    <tr>\n",
              "      <th>Odela</th>\n",
              "      <td>1</td>\n",
              "      <td>19</td>\n",
              "      <td>22</td>\n",
              "      <td>43</td>\n",
              "      <td>1234</td>\n",
              "    </tr>\n",
              "    <tr>\n",
              "      <th>Palakurthi</th>\n",
              "      <td>1</td>\n",
              "      <td>29</td>\n",
              "      <td>19</td>\n",
              "      <td>46</td>\n",
              "      <td>826</td>\n",
              "    </tr>\n",
              "    <tr>\n",
              "      <th>Peddapalle</th>\n",
              "      <td>3</td>\n",
              "      <td>35</td>\n",
              "      <td>30</td>\n",
              "      <td>158</td>\n",
              "      <td>1606</td>\n",
              "    </tr>\n",
              "    <tr>\n",
              "      <th>Ramagiri</th>\n",
              "      <td>0</td>\n",
              "      <td>1</td>\n",
              "      <td>17</td>\n",
              "      <td>79</td>\n",
              "      <td>949</td>\n",
              "    </tr>\n",
              "    <tr>\n",
              "      <th>Srirampur</th>\n",
              "      <td>1</td>\n",
              "      <td>21</td>\n",
              "      <td>24</td>\n",
              "      <td>67</td>\n",
              "      <td>1318</td>\n",
              "    </tr>\n",
              "    <tr>\n",
              "      <th>Sultanabad</th>\n",
              "      <td>0</td>\n",
              "      <td>23</td>\n",
              "      <td>27</td>\n",
              "      <td>77</td>\n",
              "      <td>1322</td>\n",
              "    </tr>\n",
              "    <tr>\n",
              "      <th>Total</th>\n",
              "      <td>126</td>\n",
              "      <td>612</td>\n",
              "      <td>266</td>\n",
              "      <td>1618</td>\n",
              "      <td>12950</td>\n",
              "    </tr>\n",
              "  </tbody>\n",
              "</table>\n",
              "</div>\n",
              "      <button class=\"colab-df-convert\" onclick=\"convertToInteractive('df-c583aa03-f5d1-4502-b7e8-43ee0d1a1887')\"\n",
              "              title=\"Convert this dataframe to an interactive table.\"\n",
              "              style=\"display:none;\">\n",
              "        \n",
              "  <svg xmlns=\"http://www.w3.org/2000/svg\" height=\"24px\"viewBox=\"0 0 24 24\"\n",
              "       width=\"24px\">\n",
              "    <path d=\"M0 0h24v24H0V0z\" fill=\"none\"/>\n",
              "    <path d=\"M18.56 5.44l.94 2.06.94-2.06 2.06-.94-2.06-.94-.94-2.06-.94 2.06-2.06.94zm-11 1L8.5 8.5l.94-2.06 2.06-.94-2.06-.94L8.5 2.5l-.94 2.06-2.06.94zm10 10l.94 2.06.94-2.06 2.06-.94-2.06-.94-.94-2.06-.94 2.06-2.06.94z\"/><path d=\"M17.41 7.96l-1.37-1.37c-.4-.4-.92-.59-1.43-.59-.52 0-1.04.2-1.43.59L10.3 9.45l-7.72 7.72c-.78.78-.78 2.05 0 2.83L4 21.41c.39.39.9.59 1.41.59.51 0 1.02-.2 1.41-.59l7.78-7.78 2.81-2.81c.8-.78.8-2.07 0-2.86zM5.41 20L4 18.59l7.72-7.72 1.47 1.35L5.41 20z\"/>\n",
              "  </svg>\n",
              "      </button>\n",
              "      \n",
              "  <style>\n",
              "    .colab-df-container {\n",
              "      display:flex;\n",
              "      flex-wrap:wrap;\n",
              "      gap: 12px;\n",
              "    }\n",
              "\n",
              "    .colab-df-convert {\n",
              "      background-color: #E8F0FE;\n",
              "      border: none;\n",
              "      border-radius: 50%;\n",
              "      cursor: pointer;\n",
              "      display: none;\n",
              "      fill: #1967D2;\n",
              "      height: 32px;\n",
              "      padding: 0 0 0 0;\n",
              "      width: 32px;\n",
              "    }\n",
              "\n",
              "    .colab-df-convert:hover {\n",
              "      background-color: #E2EBFA;\n",
              "      box-shadow: 0px 1px 2px rgba(60, 64, 67, 0.3), 0px 1px 3px 1px rgba(60, 64, 67, 0.15);\n",
              "      fill: #174EA6;\n",
              "    }\n",
              "\n",
              "    [theme=dark] .colab-df-convert {\n",
              "      background-color: #3B4455;\n",
              "      fill: #D2E3FC;\n",
              "    }\n",
              "\n",
              "    [theme=dark] .colab-df-convert:hover {\n",
              "      background-color: #434B5C;\n",
              "      box-shadow: 0px 1px 3px 1px rgba(0, 0, 0, 0.15);\n",
              "      filter: drop-shadow(0px 1px 2px rgba(0, 0, 0, 0.3));\n",
              "      fill: #FFFFFF;\n",
              "    }\n",
              "  </style>\n",
              "\n",
              "      <script>\n",
              "        const buttonEl =\n",
              "          document.querySelector('#df-c583aa03-f5d1-4502-b7e8-43ee0d1a1887 button.colab-df-convert');\n",
              "        buttonEl.style.display =\n",
              "          google.colab.kernel.accessAllowed ? 'block' : 'none';\n",
              "\n",
              "        async function convertToInteractive(key) {\n",
              "          const element = document.querySelector('#df-c583aa03-f5d1-4502-b7e8-43ee0d1a1887');\n",
              "          const dataTable =\n",
              "            await google.colab.kernel.invokeFunction('convertToInteractive',\n",
              "                                                     [key], {});\n",
              "          if (!dataTable) return;\n",
              "\n",
              "          const docLinkHtml = 'Like what you see? Visit the ' +\n",
              "            '<a target=\"_blank\" href=https://colab.research.google.com/notebooks/data_table.ipynb>data table notebook</a>'\n",
              "            + ' to learn more about interactive tables.';\n",
              "          element.innerHTML = '';\n",
              "          dataTable['output_type'] = 'display_data';\n",
              "          await google.colab.output.renderOutput(dataTable, element);\n",
              "          const docLink = document.createElement('div');\n",
              "          docLink.innerHTML = docLinkHtml;\n",
              "          element.appendChild(docLink);\n",
              "        }\n",
              "      </script>\n",
              "    </div>\n",
              "  </div>\n",
              "  "
            ]
          },
          "metadata": {},
          "execution_count": 58
        }
      ]
    },
    {
      "cell_type": "code",
      "source": [],
      "metadata": {
        "id": "QsBySXm8LWqp"
      },
      "execution_count": null,
      "outputs": []
    }
  ],
  "metadata": {
    "colab": {
      "provenance": [],
      "authorship_tag": "ABX9TyMgD/0nrpwRvxTguKatYDGx",
      "include_colab_link": true
    },
    "kernelspec": {
      "display_name": "Python 3",
      "name": "python3"
    },
    "language_info": {
      "name": "python"
    }
  },
  "nbformat": 4,
  "nbformat_minor": 0
}